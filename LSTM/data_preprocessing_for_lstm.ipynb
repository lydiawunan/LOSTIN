{
 "cells": [
  {
   "cell_type": "markdown",
   "metadata": {},
   "source": [
    "## Data preprocessing for LSTM"
   ]
  },
  {
   "cell_type": "code",
   "execution_count": null,
   "metadata": {},
   "outputs": [],
   "source": [
    "import pandas as pd\n",
    "from sklearn.utils import shuffle"
   ]
  },
  {
   "cell_type": "code",
   "execution_count": null,
   "metadata": {},
   "outputs": [],
   "source": [
    "vgraphs = ['adder', 'arbiter', 'bar', 'div', 'log2', 'max', 'multiplier', 'sin', 'sqrt', 'square', 'voter']\n",
    "new_name = ['a0', 'a1', 'a2', 'a3', 'a4', 'a5', 'a6', 'a7', 'a8', 'a9', 'a99']"
   ]
  },
  {
   "cell_type": "code",
   "execution_count": null,
   "metadata": {},
   "outputs": [],
   "source": [
    "# read the flows\n",
    "f10=pd.read_csv('dataset-generation/flow_10.csv',header=None)\n",
    "f15=pd.read_csv('dataset-generation/flow_15.csv',header=None)\n",
    "f20=pd.read_csv('dataset-generation/flow_20.csv',header=None)\n",
    "f25=pd.read_csv('dataset-generation/flow_25.csv',header=None)"
   ]
  },
  {
   "cell_type": "code",
   "execution_count": null,
   "metadata": {},
   "outputs": [],
   "source": [
    "# flow = pd.DataFrame()\n",
    "# area = pd.DataFrame()\n",
    "# delay = pd.DataFrame()\n",
    "flow = []\n",
    "area = []\n",
    "delay = []"
   ]
  },
  {
   "cell_type": "code",
   "execution_count": null,
   "metadata": {},
   "outputs": [],
   "source": [
    "data_path = 'dataset-ground-truth/'\n",
    "for i in range(11):\n",
    "    design_name = vgraphs[i]\n",
    "    name10 = pd.DataFrame([new_name[i]+';' for j in range(50000)])\n",
    "    name20 = pd.DataFrame([new_name[i]+';' for j in range(100000)])\n",
    "    #flow = pd.concat([flow, name10 + f10, name10 + f15, name20 + f20, name20 + f25])\n",
    "    local_flow = pd.concat([name10 + f10, name10 + f15, name20 + f20, name20 + f25])\n",
    "\n",
    "    a10 = pd.read_csv(data_path + 'area_ground_truth_' + design_name + '_flow_10.csv', header = None)\n",
    "    a15 = pd.read_csv(data_path + 'area_ground_truth_' + design_name + '_flow_15.csv', header = None)\n",
    "    a20 = pd.read_csv(data_path + 'area_ground_truth_' + design_name + '_flow_20.csv', header = None)\n",
    "    a25 = pd.read_csv(data_path + 'area_ground_truth_' + design_name + '_flow_25.csv', header = None)\n",
    "    #area = pd.concat([area, a10, a15, a20, a25])\n",
    "    local_area = pd.concat([a10, a15, a20, a25])\n",
    "\n",
    "    local_lstm_area = pd.concat([local_flow, local_area], axis = 1)\n",
    "    local_lstm_area = shuffle(local_lstm_area)\n",
    "    local_lstm_area = local_lstm_area.reset_index(drop = True)\n",
    "    area.append(local_lstm_area)\n",
    "\n",
    "    d10 = pd.read_csv(data_path + 'delay_ground_truth_' + design_name + '_flow_10.csv', header = None)\n",
    "    d15 = pd.read_csv(data_path + 'delay_ground_truth_' + design_name + '_flow_15.csv', header = None)\n",
    "    d20 = pd.read_csv(data_path + 'delay_ground_truth_' + design_name + '_flow_20.csv', header = None)\n",
    "    d25 = pd.read_csv(data_path + 'delay_ground_truth_' + design_name + '_flow_25.csv', header = None)\n",
    "    #delay = pd.concat([delay, d10, d15, d20, d25])\n",
    "    local_delay = pd.concat([d10, d15, d20, d25])\n",
    "\n",
    "    local_lstm_delay = pd.concat([local_flow, local_delay], axis = 1)\n",
    "    local_lstm_delay = shuffle(local_lstm_delay)\n",
    "    local_lstm_delay = local_lstm_delay.reset_index(drop = True)\n",
    "    delay.append(local_lstm_delay)\n",
    "    #break"
   ]
  },
  {
   "cell_type": "code",
   "execution_count": null,
   "metadata": {},
   "outputs": [],
   "source": [
    "flow.columns = ['flow']\n",
    "area.columns = ['area']\n",
    "delay.columns = ['delay']"
   ]
  },
  {
   "cell_type": "code",
   "execution_count": null,
   "metadata": {},
   "outputs": [],
   "source": [
    "# concatenate to form training dataset\n",
    "area_train = pd.DataFrame()\n",
    "delay_train = pd.DataFrame()\n",
    "\n",
    "area_rest = pd.DataFrame()\n",
    "delay_rest = pd.DataFrame()\n",
    "\n",
    "for i in range(6):\n",
    "    area_train = pd.concat([area_train, area[i][:110000]])\n",
    "    delay_train = pd.concat([delay_train, delay[i][:110000]])\n",
    "\n",
    "    area_rest = pd.concat([area_rest, area[i][110000:]])\n",
    "    delay_rest = pd.concat([delay_rest, delay[i][110000:]])\n",
    "\n",
    "# for unseen design\n",
    "for i in range(6,11):\n",
    "    area_rest = pd.concat([area_rest, area[i]])\n",
    "    delay_rest = pd.concat([delay_rest, delay[i]])"
   ]
  },
  {
   "cell_type": "code",
   "execution_count": null,
   "metadata": {},
   "outputs": [],
   "source": [
    "lstm_area = pd.concat([shuffle(area_train), shuffle(area_rest)])\n",
    "lstm_delay = pd.concat([shuffle(delay_train), shuffle(delay_rest)])"
   ]
  },
  {
   "cell_type": "code",
   "execution_count": null,
   "metadata": {},
   "outputs": [],
   "source": [
    "lstm_area.columns = ['flow', 'area']\n",
    "lstm_delay.columns = ['flow', 'delay']"
   ]
  },
  {
   "cell_type": "code",
   "execution_count": null,
   "metadata": {},
   "outputs": [],
   "source": [
    "lstm_area['area']=lstm_area['area'].divide(5000)\n",
    "lstm_delay['delay']=lstm_delay['delay'].divide(5000)\n",
    "print(lstm_area['area'].max())\n",
    "print(lstm_delay['delay'].max())"
   ]
  },
  {
   "cell_type": "code",
   "execution_count": null,
   "metadata": {},
   "outputs": [],
   "source": [
    "# update the names in synthesis flows\n",
    "lstm_delay['flow'] = lstm_delay['flow'].str.replace('resub -z','rsz')\n",
    "lstm_delay['flow'] = lstm_delay['flow'].str.replace('resub','rs')\n",
    "\n",
    "lstm_area['flow'] = lstm_area['flow'].str.replace('resub -z','rsz')\n",
    "lstm_area['flow'] = lstm_area['flow'].str.replace('resub','rs')"
   ]
  },
  {
   "cell_type": "code",
   "execution_count": null,
   "metadata": {},
   "outputs": [],
   "source": [
    "# save the raw file\n",
    "lstm_area.to_csv('lstm_area.csv',index=None)\n",
    "lstm_delay.to_csv('lstm_delay.csv',index=None)"
   ]
  },
  {
   "cell_type": "markdown",
   "metadata": {},
   "source": [
    "## Split into train, valid, and test"
   ]
  },
  {
   "cell_type": "code",
   "execution_count": null,
   "metadata": {},
   "outputs": [],
   "source": [
    "### split into train, valid, and test\n",
    "from sklearn.model_selection import train_test_split\n",
    "\n",
    "raw_data_path = 'lstm_area.csv'\n",
    "destination_folder = 'data_area'\n",
    "\n",
    "train_test_ratio = 0.25\n",
    "train_valid_ratio = 0.80\n",
    "\n",
    "first_n_words = 26\n",
    "\n",
    "def trim_string(x):\n",
    "    x = x.split(';',maxsplit=first_n_words)\n",
    "    x = ' '.join(x[:first_n_words])\n",
    "    return x"
   ]
  },
  {
   "cell_type": "code",
   "execution_count": null,
   "metadata": {},
   "outputs": [],
   "source": [
    "# Read raw data\n",
    "df_raw = pd.read_csv(raw_data_path)\n",
    "\n",
    "# Trim text and titletext to first_n_words\n",
    "df_raw['flow'] = df_raw['flow'].apply(trim_string)\n",
    "\n",
    "# Train-test split\n",
    "df_full_train, df_test = train_test_split(df_raw, train_size = train_test_ratio, shuffle = False)\n",
    "\n",
    "# Train-valid split\n",
    "df_train, df_valid = train_test_split(df_full_train, train_size = train_valid_ratio, shuffle = False)\n",
    "\n",
    "# Write preprocessed data\n",
    "df_train.to_csv(destination_folder + '/train.csv', index=False)\n",
    "df_valid.to_csv(destination_folder + '/valid.csv', index=False)\n",
    "df_test.to_csv(destination_folder + '/test.csv', index=False)"
   ]
  }
 ],
 "metadata": {
  "interpreter": {
   "hash": "7f01bbd461b44d47e6849f1e1d168da3086f09e053a6a22be92cde35c4dee083"
  },
  "kernelspec": {
   "display_name": "Python 3.9.7 64-bit ('pytorch': conda)",
   "name": "python3"
  },
  "language_info": {
   "codemirror_mode": {
    "name": "ipython",
    "version": 3
   },
   "file_extension": ".py",
   "mimetype": "text/x-python",
   "name": "python",
   "nbconvert_exporter": "python",
   "pygments_lexer": "ipython3",
   "version": "3.9.7"
  },
  "orig_nbformat": 4
 },
 "nbformat": 4,
 "nbformat_minor": 2
}
