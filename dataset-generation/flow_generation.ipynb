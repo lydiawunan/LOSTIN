{
 "cells": [
  {
   "cell_type": "code",
   "execution_count": null,
   "metadata": {},
   "outputs": [],
   "source": [
    "import pandas as pd\n",
    "import numpy as np\n",
    "import random"
   ]
  },
  {
   "cell_type": "code",
   "execution_count": null,
   "metadata": {},
   "outputs": [],
   "source": [
    "command_set=['b','resub','resub -z','rw','rwz','rf','rfz']"
   ]
  },
  {
   "cell_type": "code",
   "execution_count": null,
   "metadata": {},
   "outputs": [],
   "source": [
    "# generate flows with 10 transformations\n",
    "flow_length=10\n",
    "num_flows=50000\n",
    "flows=[0 for i in range(num_flows)]\n",
    "\n",
    "for i in range(num_flows):\n",
    "    command=''\n",
    "    for j in range(flow_length):\n",
    "        ind=random.randint(0,len(command_set)-1)\n",
    "        command=command+command_set[ind]+';'\n",
    "    flows[i]=command\n",
    "\n",
    "flows_10=pd.DataFrame(flows)\n",
    "flows_10.to_csv('flow_10.csv',index=False,header=False)"
   ]
  },
  {
   "cell_type": "code",
   "execution_count": null,
   "metadata": {},
   "outputs": [],
   "source": [
    "# generate flows with 15 transformations\n",
    "flow_length=15\n",
    "num_flows=50000\n",
    "flows=[0 for i in range(num_flows)]\n",
    "\n",
    "for i in range(num_flows):\n",
    "    command=''\n",
    "    for j in range(flow_length):\n",
    "        ind=random.randint(0,len(command_set)-1)\n",
    "        command=command+command_set[ind]+';'\n",
    "    flows[i]=command\n",
    "\n",
    "flows_15=pd.DataFrame(flows)\n",
    "flows_15.to_csv('flow_15.csv',index=False,header=False)"
   ]
  },
  {
   "cell_type": "code",
   "execution_count": null,
   "metadata": {},
   "outputs": [],
   "source": [
    "# generate flows with 20 transformations\n",
    "flow_length=20\n",
    "num_flows=100000\n",
    "flows=[0 for i in range(num_flows)]\n",
    "\n",
    "for i in range(num_flows):\n",
    "    command=''\n",
    "    for j in range(flow_length):\n",
    "        ind=random.randint(0,len(command_set)-1)\n",
    "        command=command+command_set[ind]+';'\n",
    "    flows[i]=command\n",
    "\n",
    "flows_20=pd.DataFrame(flows)\n",
    "flows_20.to_csv('flow_20.csv',index=False,header=False)"
   ]
  },
  {
   "cell_type": "code",
   "execution_count": null,
   "metadata": {},
   "outputs": [],
   "source": [
    "# generate flows with 20 transformations\n",
    "flow_length=25\n",
    "num_flows=100000\n",
    "flows=[0 for i in range(num_flows)]\n",
    "\n",
    "for i in range(num_flows):\n",
    "    command=''\n",
    "    for j in range(flow_length):\n",
    "        ind=random.randint(0,len(command_set)-1)\n",
    "        command=command+command_set[ind]+';'\n",
    "    flows[i]=command\n",
    "\n",
    "flows_25=pd.DataFrame(flows)\n",
    "flows_25.to_csv('flow_25.csv',index=False,header=False)"
   ]
  }
 ],
 "metadata": {
  "interpreter": {
   "hash": "7dbdb78c0e45d71dfb57e8f1b3c5df86bae9b45401400f0b7b6f95197ad3ac3d"
  },
  "kernelspec": {
   "display_name": "Python 3.8.11 64-bit ('pytorch': conda)",
   "name": "python3"
  },
  "language_info": {
   "codemirror_mode": {
    "name": "ipython",
    "version": 3
   },
   "file_extension": ".py",
   "mimetype": "text/x-python",
   "name": "python",
   "nbconvert_exporter": "python",
   "pygments_lexer": "ipython3",
   "version": "3.8.11"
  },
  "orig_nbformat": 4
 },
 "nbformat": 4,
 "nbformat_minor": 2
}
